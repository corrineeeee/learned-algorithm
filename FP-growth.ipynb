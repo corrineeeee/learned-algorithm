{
 "cells": [
  {
   "cell_type": "markdown",
   "metadata": {},
   "source": [
    "# FP-growth学习和应用 跑出自由幻想的商品关联规则哈"
   ]
  },
  {
   "cell_type": "code",
   "execution_count": 1,
   "metadata": {},
   "outputs": [],
   "source": [
    "import numpy as np\n",
    "import pandas as pd\n",
    "import orangecontrib.associate.fpgrowth as fpg\n",
    "import csv"
   ]
  },
  {
   "cell_type": "code",
   "execution_count": 2,
   "metadata": {},
   "outputs": [
    {
     "name": "stdout",
     "output_type": "stream",
     "text": [
      "用户ID\n",
      "1019795809                      [6904, 7755, 9156, 13058, 24628, 27527, 29885,...\n",
      "1028850298                                                                [65253]\n",
      "1045534606                                     [6904, 33435, 53370, 93568, 96770]\n",
      "1050658544                                                                 [9156]\n",
      "10637215                                                            [9156, 54506]\n",
      "                                                      ...                        \n",
      "o1A_Bjvux2-pH_CWKNsHnPg0rVEk            [9156, 53370, 53858, 54506, 70796, 93568]\n",
      "o1A_BjvvB6-1Jk-5PBwfTPKwzg3o                                               [9156]\n",
      "o1A_BjvxSbn9C-DGAjavuzMvrwJQ                  [30128, 54506, 60631, 70796, 72395]\n",
      "o1A_Bjvy7WwZZQQYxBwkysPxfQpo                                              [70796]\n",
      "o1A_BjvzV02CKuHfGDltEJSZewaE                                [60631, 93568, 96214]\n",
      "Length: 1009, dtype: object\n"
     ]
    }
   ],
   "source": [
    "#ffomtest.csv 包含交易ID、购买商品两个字段 自由幻想\n",
    "data = pd.read_csv(\"C:\\\\Users\\\\v_clweng\\\\Desktop\\\\ffomtest1.csv\")\n",
    "data.head()\n",
    "#print(data.tail())\n",
    "#data.describe()\n",
    "\n",
    "# transactions是一个series\n",
    "#改为了用户ID 因为数据中交易ID和商品是一对一的关系 而一个用户会购买多个商品\n",
    "transactions = data.groupby(\"用户ID\").apply(lambda x:list(x.购买商品)) \n",
    "\n",
    "print(transactions)"
   ]
  },
  {
   "cell_type": "markdown",
   "metadata": {},
   "source": [
    "## 获取频繁项集\n",
    "最小支持度选择5 frequent_itemsets(X, min_support=0.2) \n",
    "该方法会输出 itemset (frozenset) 和support (int) "
   ]
  },
  {
   "cell_type": "markdown",
   "metadata": {},
   "source": [
    "itemsets = dict(fpg.frequent_itemsets(list(transactions),5))\n",
    "#print(itemsets)"
   ]
  },
  {
   "cell_type": "markdown",
   "metadata": {},
   "source": [
    "## 获取关联规则\n",
    "association_rules(itemsets, min_confidence, itemset=None)  最小置信度 可以筛选哈这里\n",
    "该方法会输出 antecedent (frozenset)前置项目,consequent (frozenset)后置项目,support (int),confidence (float)"
   ]
  },
  {
   "cell_type": "code",
   "execution_count": null,
   "metadata": {},
   "outputs": [],
   "source": [
    "rules = fpg.association_rules(itemsets, 0.6)\n",
    "#print(rules)\n",
    "#print([rule for rule in rules])\n",
    "\n",
    "#循环输出关联规则看看8\n",
    "#for line in rules:\n",
    "#   if len(line[0])>1 or len(line[1])>1 :\n",
    "#        print(line.__str__())"
   ]
  },
  {
   "cell_type": "markdown",
   "metadata": {},
   "source": [
    "## 生成关联规则并清空rules\n",
    "这个方法会输出很多东西 \n",
    "rules_stats(rules, itemsets, n_examples) \n",
    "atecedent,consequent,support,confidence,coverage,strength,lift,leverage"
   ]
  },
  {
   "cell_type": "code",
   "execution_count": null,
   "metadata": {
    "scrolled": false
   },
   "outputs": [],
   "source": [
    "#results = list(ftp.rules_stats(rules, itemsets, len(transactions)))\n",
    "#print(itemsets)\n",
    "\n",
    "with open(\"resultall.csv\",\"w\",newline='', encoding='utf-8-sig') as csvfile: \n",
    "    writer = csv.writer(csvfile)\n",
    " \n",
    "    #先写入columns_name\n",
    "    writer.writerow([\"前置\",\"后置\",\"支持度\",\"置信度\",\"提升度\"])\n",
    "    #写入多行用writerows\n",
    "    #writer.writerow([[0,1,3],[1,2,3],[2,3,4]])\n",
    "    for everylist in list(fpg.rules_stats(rules, itemsets, len(transactions))):\n",
    "        #everylist[6] >1 选择提升度>1的\n",
    "        if everylist[6] >1:\n",
    "            a = everylist[0]\n",
    "            b = everylist[1]\n",
    "            list_a = []\n",
    "            list_b = []\n",
    "            for x in a:\n",
    "                list_a.append(str(x))\n",
    "            for y in b:\n",
    "                list_b.append(str(y))\n",
    "            stra = \",\"\n",
    "            stra.join(list_a)\n",
    "            stra.join(list_b)\n",
    "            #print(list_a)\n",
    "           \n",
    "            #print(list_b)\n",
    "            #下面这个if选择 前置商品只有一个的关联规则\n",
    "            #if len(list_a) == 1 :\n",
    "                #print(len(list_a))\n",
    "                #print(list_a)\n",
    "            list_all = [list_a,list_b,str(everylist[2]),str(everylist[3]),str(everylist[6])]\n",
    "            writer.writerow(list_all)\n",
    "            #print(list_all)\n",
    "            #print(everylist[0],\"/\",everylist[1],\"/\",everylist[2],\"/\",everylist[3],\"/\",everylist[6])\n"
   ]
  },
  {
   "cell_type": "code",
   "execution_count": null,
   "metadata": {},
   "outputs": [],
   "source": []
  },
  {
   "cell_type": "code",
   "execution_count": null,
   "metadata": {},
   "outputs": [],
   "source": []
  }
 ],
 "metadata": {
  "kernelspec": {
   "display_name": "Python 3",
   "language": "python",
   "name": "python3"
  },
  "language_info": {
   "codemirror_mode": {
    "name": "ipython",
    "version": 3
   },
   "file_extension": ".py",
   "mimetype": "text/x-python",
   "name": "python",
   "nbconvert_exporter": "python",
   "pygments_lexer": "ipython3",
   "version": "3.7.4"
  }
 },
 "nbformat": 4,
 "nbformat_minor": 2
}
